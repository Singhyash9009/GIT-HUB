{
 "cells": [
  {
   "cell_type": "markdown",
   "id": "6af63e1d",
   "metadata": {},
   "source": [
    "## Title: House Grade Prediction\n",
    "\n",
    "### Bussiness purpose: Model to predict the grade of house(A,B,C,D,E)."
   ]
  },
  {
   "cell_type": "code",
   "execution_count": 1,
   "id": "b8aa029b",
   "metadata": {},
   "outputs": [],
   "source": [
    "#Importing the required Library.\n",
    "import numpy as np                                                #for array and numerical data calculation\n",
    "import pandas as pd                                               #for making dataframe and loding data\n",
    "import matplotlib.pyplot as plt                                   #for visualization\n",
    "import seaborn as sns                                             #for visualization\n",
    "from numpy import mean,std                                        #for mathematical calculation\n",
    "\n",
    "from sklearn import preprocessing,metrics                         #for model precpocessing steps and various score metrics\n",
    "from sklearn.model_selection import train_test_split              # for splitting of data into train and test\n",
    "from sklearn.metrics import confusion_matrix,classification_report,accuracy_score,f1_score,recall_score,precision_score\n",
    "#for calculating various score metrics\n",
    "import warnings                                                   # to filter out warnings\n",
    "warnings.simplefilter(action='ignore')"
   ]
  },
  {
   "cell_type": "code",
   "execution_count": 2,
   "id": "c04427d2",
   "metadata": {},
   "outputs": [
    {
     "data": {
      "text/html": [
       "<div>\n",
       "<style scoped>\n",
       "    .dataframe tbody tr th:only-of-type {\n",
       "        vertical-align: middle;\n",
       "    }\n",
       "\n",
       "    .dataframe tbody tr th {\n",
       "        vertical-align: top;\n",
       "    }\n",
       "\n",
       "    .dataframe thead th {\n",
       "        text-align: right;\n",
       "    }\n",
       "</style>\n",
       "<table border=\"1\" class=\"dataframe\">\n",
       "  <thead>\n",
       "    <tr style=\"text-align: right;\">\n",
       "      <th></th>\n",
       "      <th>Id</th>\n",
       "      <th>Area(total)</th>\n",
       "      <th>Trooms</th>\n",
       "      <th>Nbedrooms</th>\n",
       "      <th>Nbwashrooms</th>\n",
       "      <th>Twashrooms</th>\n",
       "      <th>roof</th>\n",
       "      <th>Roof(Area)</th>\n",
       "      <th>Lawn(Area)</th>\n",
       "      <th>Nfloors</th>\n",
       "      <th>API</th>\n",
       "      <th>ANB</th>\n",
       "      <th>Expected price</th>\n",
       "      <th>Grade</th>\n",
       "    </tr>\n",
       "  </thead>\n",
       "  <tbody>\n",
       "    <tr>\n",
       "      <th>0</th>\n",
       "      <td>1</td>\n",
       "      <td>339</td>\n",
       "      <td>6</td>\n",
       "      <td>5</td>\n",
       "      <td>4</td>\n",
       "      <td>6</td>\n",
       "      <td>NO</td>\n",
       "      <td>0</td>\n",
       "      <td>76</td>\n",
       "      <td>2</td>\n",
       "      <td>79</td>\n",
       "      <td>6</td>\n",
       "      <td>3481</td>\n",
       "      <td>D</td>\n",
       "    </tr>\n",
       "    <tr>\n",
       "      <th>1</th>\n",
       "      <td>2</td>\n",
       "      <td>358</td>\n",
       "      <td>5</td>\n",
       "      <td>4</td>\n",
       "      <td>3</td>\n",
       "      <td>4</td>\n",
       "      <td>YES</td>\n",
       "      <td>71</td>\n",
       "      <td>96</td>\n",
       "      <td>3</td>\n",
       "      <td>72</td>\n",
       "      <td>4</td>\n",
       "      <td>3510</td>\n",
       "      <td>D</td>\n",
       "    </tr>\n",
       "    <tr>\n",
       "      <th>2</th>\n",
       "      <td>3</td>\n",
       "      <td>324</td>\n",
       "      <td>7</td>\n",
       "      <td>5</td>\n",
       "      <td>4</td>\n",
       "      <td>5</td>\n",
       "      <td>YES</td>\n",
       "      <td>101</td>\n",
       "      <td>117</td>\n",
       "      <td>5</td>\n",
       "      <td>64</td>\n",
       "      <td>3</td>\n",
       "      <td>3748</td>\n",
       "      <td>C</td>\n",
       "    </tr>\n",
       "    <tr>\n",
       "      <th>3</th>\n",
       "      <td>4</td>\n",
       "      <td>330</td>\n",
       "      <td>6</td>\n",
       "      <td>4</td>\n",
       "      <td>3</td>\n",
       "      <td>5</td>\n",
       "      <td>YES</td>\n",
       "      <td>101</td>\n",
       "      <td>82</td>\n",
       "      <td>2</td>\n",
       "      <td>59</td>\n",
       "      <td>2</td>\n",
       "      <td>3134</td>\n",
       "      <td>D</td>\n",
       "    </tr>\n",
       "    <tr>\n",
       "      <th>4</th>\n",
       "      <td>5</td>\n",
       "      <td>320</td>\n",
       "      <td>7</td>\n",
       "      <td>4</td>\n",
       "      <td>4</td>\n",
       "      <td>5</td>\n",
       "      <td>NO</td>\n",
       "      <td>0</td>\n",
       "      <td>75</td>\n",
       "      <td>3</td>\n",
       "      <td>40</td>\n",
       "      <td>1</td>\n",
       "      <td>3843</td>\n",
       "      <td>D</td>\n",
       "    </tr>\n",
       "  </tbody>\n",
       "</table>\n",
       "</div>"
      ],
      "text/plain": [
       "   Id  Area(total)  Trooms  Nbedrooms  Nbwashrooms  Twashrooms roof  \\\n",
       "0   1          339       6          5            4           6   NO   \n",
       "1   2          358       5          4            3           4  YES   \n",
       "2   3          324       7          5            4           5  YES   \n",
       "3   4          330       6          4            3           5  YES   \n",
       "4   5          320       7          4            4           5   NO   \n",
       "\n",
       "   Roof(Area)  Lawn(Area)  Nfloors  API  ANB  Expected price Grade  \n",
       "0           0          76        2   79    6            3481     D  \n",
       "1          71          96        3   72    4            3510     D  \n",
       "2         101         117        5   64    3            3748     C  \n",
       "3         101          82        2   59    2            3134     D  \n",
       "4           0          75        3   40    1            3843     D  "
      ]
     },
     "execution_count": 2,
     "metadata": {},
     "output_type": "execute_result"
    }
   ],
   "source": [
    "#Data Fecthing\n",
    "hou=pd.read_csv(\"C:/Users/acer/Downloads/Project2_Classification_HouseGrade_Data_Project-625edbc5-68f4-4fe4-97f2-29ba63a71a0e.csv\")\n",
    "\n",
    "#data set preview\n",
    "hou.head()"
   ]
  },
  {
   "cell_type": "code",
   "execution_count": 3,
   "id": "2a92dab8",
   "metadata": {},
   "outputs": [
    {
     "data": {
      "text/plain": [
       "Id                 int64\n",
       "Area(total)        int64\n",
       "Trooms             int64\n",
       "Nbedrooms          int64\n",
       "Nbwashrooms        int64\n",
       "Twashrooms         int64\n",
       "roof              object\n",
       "Roof(Area)         int64\n",
       "Lawn(Area)         int64\n",
       "Nfloors            int64\n",
       "API                int64\n",
       "ANB                int64\n",
       "Expected price     int64\n",
       "Grade             object\n",
       "dtype: object"
      ]
     },
     "execution_count": 3,
     "metadata": {},
     "output_type": "execute_result"
    }
   ],
   "source": [
    "#Checking Datatypes\n",
    "hou.dtypes"
   ]
  },
  {
   "cell_type": "code",
   "execution_count": 4,
   "id": "22f63c93",
   "metadata": {},
   "outputs": [
    {
     "data": {
      "text/plain": [
       "Id                   int64\n",
       "Area(total)          int64\n",
       "Trooms               int64\n",
       "Nbedrooms            int64\n",
       "Nbwashrooms          int64\n",
       "Twashrooms           int64\n",
       "roof              category\n",
       "Roof(Area)           int64\n",
       "Lawn(Area)           int64\n",
       "Nfloors              int64\n",
       "API                  int64\n",
       "ANB                  int64\n",
       "Expected price       int64\n",
       "Grade             category\n",
       "dtype: object"
      ]
     },
     "execution_count": 4,
     "metadata": {},
     "output_type": "execute_result"
    }
   ],
   "source": [
    "#Changing categorical data into category type\n",
    "hou['roof'] =hou['roof'].astype('category')\n",
    "hou['Grade']=hou['Grade'].astype('category')\n",
    "hou.dtypes"
   ]
  },
  {
   "cell_type": "code",
   "execution_count": 5,
   "id": "9072f26c",
   "metadata": {},
   "outputs": [
    {
     "data": {
      "text/plain": [
       "(3000, 14)"
      ]
     },
     "execution_count": 5,
     "metadata": {},
     "output_type": "execute_result"
    }
   ],
   "source": [
    "#Checking the Structure of dataset\n",
    "hou.shape"
   ]
  },
  {
   "cell_type": "code",
   "execution_count": 6,
   "id": "1032b092",
   "metadata": {},
   "outputs": [
    {
     "data": {
      "text/html": [
       "<div>\n",
       "<style scoped>\n",
       "    .dataframe tbody tr th:only-of-type {\n",
       "        vertical-align: middle;\n",
       "    }\n",
       "\n",
       "    .dataframe tbody tr th {\n",
       "        vertical-align: top;\n",
       "    }\n",
       "\n",
       "    .dataframe thead th {\n",
       "        text-align: right;\n",
       "    }\n",
       "</style>\n",
       "<table border=\"1\" class=\"dataframe\">\n",
       "  <thead>\n",
       "    <tr style=\"text-align: right;\">\n",
       "      <th></th>\n",
       "      <th>Id</th>\n",
       "      <th>Area(total)</th>\n",
       "      <th>Trooms</th>\n",
       "      <th>Nbedrooms</th>\n",
       "      <th>Nbwashrooms</th>\n",
       "      <th>Twashrooms</th>\n",
       "      <th>Roof(Area)</th>\n",
       "      <th>Lawn(Area)</th>\n",
       "      <th>Nfloors</th>\n",
       "      <th>API</th>\n",
       "      <th>ANB</th>\n",
       "      <th>Expected price</th>\n",
       "    </tr>\n",
       "  </thead>\n",
       "  <tbody>\n",
       "    <tr>\n",
       "      <th>count</th>\n",
       "      <td>3000.000000</td>\n",
       "      <td>3000.000000</td>\n",
       "      <td>3000.000000</td>\n",
       "      <td>3000.000000</td>\n",
       "      <td>3000.000000</td>\n",
       "      <td>3000.000000</td>\n",
       "      <td>3000.000000</td>\n",
       "      <td>3000.000000</td>\n",
       "      <td>3000.000000</td>\n",
       "      <td>3000.000000</td>\n",
       "      <td>3000.00000</td>\n",
       "      <td>3000.000000</td>\n",
       "    </tr>\n",
       "    <tr>\n",
       "      <th>mean</th>\n",
       "      <td>1500.500000</td>\n",
       "      <td>325.117000</td>\n",
       "      <td>7.021667</td>\n",
       "      <td>5.023000</td>\n",
       "      <td>4.513667</td>\n",
       "      <td>6.010667</td>\n",
       "      <td>48.980667</td>\n",
       "      <td>95.609333</td>\n",
       "      <td>4.013333</td>\n",
       "      <td>70.190667</td>\n",
       "      <td>3.47900</td>\n",
       "      <td>3782.938333</td>\n",
       "    </tr>\n",
       "    <tr>\n",
       "      <th>std</th>\n",
       "      <td>866.169729</td>\n",
       "      <td>20.507742</td>\n",
       "      <td>1.421221</td>\n",
       "      <td>1.634838</td>\n",
       "      <td>1.715263</td>\n",
       "      <td>1.786136</td>\n",
       "      <td>48.746641</td>\n",
       "      <td>14.837388</td>\n",
       "      <td>1.621532</td>\n",
       "      <td>17.563460</td>\n",
       "      <td>1.69426</td>\n",
       "      <td>567.189995</td>\n",
       "    </tr>\n",
       "    <tr>\n",
       "      <th>min</th>\n",
       "      <td>1.000000</td>\n",
       "      <td>290.000000</td>\n",
       "      <td>5.000000</td>\n",
       "      <td>2.000000</td>\n",
       "      <td>1.000000</td>\n",
       "      <td>2.000000</td>\n",
       "      <td>0.000000</td>\n",
       "      <td>70.000000</td>\n",
       "      <td>1.000000</td>\n",
       "      <td>40.000000</td>\n",
       "      <td>1.00000</td>\n",
       "      <td>2504.000000</td>\n",
       "    </tr>\n",
       "    <tr>\n",
       "      <th>25%</th>\n",
       "      <td>750.750000</td>\n",
       "      <td>308.000000</td>\n",
       "      <td>6.000000</td>\n",
       "      <td>4.000000</td>\n",
       "      <td>3.000000</td>\n",
       "      <td>5.000000</td>\n",
       "      <td>0.000000</td>\n",
       "      <td>83.000000</td>\n",
       "      <td>3.000000</td>\n",
       "      <td>55.000000</td>\n",
       "      <td>2.00000</td>\n",
       "      <td>3354.000000</td>\n",
       "    </tr>\n",
       "    <tr>\n",
       "      <th>50%</th>\n",
       "      <td>1500.500000</td>\n",
       "      <td>325.000000</td>\n",
       "      <td>7.000000</td>\n",
       "      <td>5.000000</td>\n",
       "      <td>4.000000</td>\n",
       "      <td>6.000000</td>\n",
       "      <td>71.000000</td>\n",
       "      <td>96.000000</td>\n",
       "      <td>4.000000</td>\n",
       "      <td>70.000000</td>\n",
       "      <td>4.00000</td>\n",
       "      <td>3771.000000</td>\n",
       "    </tr>\n",
       "    <tr>\n",
       "      <th>75%</th>\n",
       "      <td>2250.250000</td>\n",
       "      <td>343.000000</td>\n",
       "      <td>8.000000</td>\n",
       "      <td>6.000000</td>\n",
       "      <td>6.000000</td>\n",
       "      <td>7.000000</td>\n",
       "      <td>96.000000</td>\n",
       "      <td>109.000000</td>\n",
       "      <td>5.000000</td>\n",
       "      <td>85.000000</td>\n",
       "      <td>5.00000</td>\n",
       "      <td>4208.000000</td>\n",
       "    </tr>\n",
       "    <tr>\n",
       "      <th>max</th>\n",
       "      <td>3000.000000</td>\n",
       "      <td>360.000000</td>\n",
       "      <td>9.000000</td>\n",
       "      <td>8.000000</td>\n",
       "      <td>8.000000</td>\n",
       "      <td>10.000000</td>\n",
       "      <td>120.000000</td>\n",
       "      <td>120.000000</td>\n",
       "      <td>7.000000</td>\n",
       "      <td>100.000000</td>\n",
       "      <td>6.00000</td>\n",
       "      <td>5216.000000</td>\n",
       "    </tr>\n",
       "  </tbody>\n",
       "</table>\n",
       "</div>"
      ],
      "text/plain": [
       "                Id  Area(total)       Trooms    Nbedrooms  Nbwashrooms  \\\n",
       "count  3000.000000  3000.000000  3000.000000  3000.000000  3000.000000   \n",
       "mean   1500.500000   325.117000     7.021667     5.023000     4.513667   \n",
       "std     866.169729    20.507742     1.421221     1.634838     1.715263   \n",
       "min       1.000000   290.000000     5.000000     2.000000     1.000000   \n",
       "25%     750.750000   308.000000     6.000000     4.000000     3.000000   \n",
       "50%    1500.500000   325.000000     7.000000     5.000000     4.000000   \n",
       "75%    2250.250000   343.000000     8.000000     6.000000     6.000000   \n",
       "max    3000.000000   360.000000     9.000000     8.000000     8.000000   \n",
       "\n",
       "        Twashrooms   Roof(Area)   Lawn(Area)      Nfloors          API  \\\n",
       "count  3000.000000  3000.000000  3000.000000  3000.000000  3000.000000   \n",
       "mean      6.010667    48.980667    95.609333     4.013333    70.190667   \n",
       "std       1.786136    48.746641    14.837388     1.621532    17.563460   \n",
       "min       2.000000     0.000000    70.000000     1.000000    40.000000   \n",
       "25%       5.000000     0.000000    83.000000     3.000000    55.000000   \n",
       "50%       6.000000    71.000000    96.000000     4.000000    70.000000   \n",
       "75%       7.000000    96.000000   109.000000     5.000000    85.000000   \n",
       "max      10.000000   120.000000   120.000000     7.000000   100.000000   \n",
       "\n",
       "              ANB  Expected price  \n",
       "count  3000.00000     3000.000000  \n",
       "mean      3.47900     3782.938333  \n",
       "std       1.69426      567.189995  \n",
       "min       1.00000     2504.000000  \n",
       "25%       2.00000     3354.000000  \n",
       "50%       4.00000     3771.000000  \n",
       "75%       5.00000     4208.000000  \n",
       "max       6.00000     5216.000000  "
      ]
     },
     "execution_count": 6,
     "metadata": {},
     "output_type": "execute_result"
    }
   ],
   "source": [
    "#summary of the data\n",
    "hou.describe()"
   ]
  },
  {
   "cell_type": "code",
   "execution_count": 7,
   "id": "4f60edd2",
   "metadata": {},
   "outputs": [
    {
     "data": {
      "text/plain": [
       "Id                0\n",
       "Area(total)       0\n",
       "Trooms            0\n",
       "Nbedrooms         0\n",
       "Nbwashrooms       0\n",
       "Twashrooms        0\n",
       "roof              0\n",
       "Roof(Area)        0\n",
       "Lawn(Area)        0\n",
       "Nfloors           0\n",
       "API               0\n",
       "ANB               0\n",
       "Expected price    0\n",
       "Grade             0\n",
       "dtype: int64"
      ]
     },
     "execution_count": 7,
     "metadata": {},
     "output_type": "execute_result"
    }
   ],
   "source": [
    "#Checking missing values.\n",
    "hou.isnull().sum()"
   ]
  },
  {
   "cell_type": "markdown",
   "id": "c824ff0f",
   "metadata": {},
   "source": [
    "No missing values."
   ]
  },
  {
   "cell_type": "markdown",
   "id": "b763b2f3",
   "metadata": {},
   "source": [
    "### EDA \n",
    "\n",
    "#### Univariate Analysis."
   ]
  },
  {
   "cell_type": "code",
   "execution_count": 8,
   "id": "b7adfebb",
   "metadata": {},
   "outputs": [
    {
     "data": {
      "image/png": "[encoded data removed]",
      "text/plain": [
       "<Figure size 1080x576 with 3 Axes>"
      ]
     },
     "metadata": {
      "needs_background": "light"
     },
     "output_type": "display_data"
    }
   ],
   "source": [
    "fig,ax=plt.subplots(1,3,figsize=(15,8))\n",
    "#Area(total)\n",
    "sns.histplot(x=hou['Area(total)'],ax=ax[0])\n",
    "#Lawn(Area)\n",
    "sns.histplot(x=hou['Lawn(Area)'],ax=ax[1])\n",
    "#Roof(Area)\n",
    "sns.histplot(x=hou['Roof(Area)'],ax=ax[2]);"
   ]
  },
  {
   "cell_type": "markdown",
   "id": "b237f39b",
   "metadata": {},
   "source": [
    "Count properties Area 350-360 is more followed by 320 total area."
   ]
  },
  {
   "cell_type": "markdown",
   "id": "5b3dde4e",
   "metadata": {},
   "source": [
    "Count of properties Lawn Area is 120 is more."
   ]
  },
  {
   "cell_type": "code",
   "execution_count": 9,
   "id": "38ef41d0",
   "metadata": {},
   "outputs": [
    {
     "data": {
      "image/png": "[encoded data removed]",
      "text/plain": [
       "<Figure size 1080x720 with 4 Axes>"
      ]
     },
     "metadata": {
      "needs_background": "light"
     },
     "output_type": "display_data"
    }
   ],
   "source": [
    "fig,ax=plt.subplots(2,2,figsize=(15,10))\n",
    "#Total rooms analysis\n",
    "sns.countplot(hou[\"Trooms\"],ax=ax[0][0])\n",
    "ax[0][1].pie(x=hou[\"Trooms\"].value_counts(),labels=hou[\"Trooms\"].value_counts().index,autopct='%.2f%%')\n",
    "ax[0][1].title.set_text('Total rooms');\n",
    "\n",
    "\n",
    "#Number of Bedrooms in house\n",
    "sns.countplot(hou[\"Nbedrooms\"],ax=ax[1][0])\n",
    "ax[1][1].pie(x=hou[\"Nbedrooms\"].value_counts(),labels=hou[\"Nbedrooms\"].value_counts().index,autopct='%.2f%%')\n",
    "plt.title('Number of Bedrooms');"
   ]
  },
  {
   "cell_type": "markdown",
   "id": "54c87286",
   "metadata": {},
   "source": [
    "9 number of rooms are greatest followed by 6 number of rooms."
   ]
  },
  {
   "cell_type": "markdown",
   "id": "43538378",
   "metadata": {},
   "source": [
    "4 Number Bedrooms are greatest followed by 5 Number of Bedrooms."
   ]
  },
  {
   "cell_type": "code",
   "execution_count": 10,
   "id": "28c3083c",
   "metadata": {},
   "outputs": [
    {
     "data": {
      "image/png": "[encoded data removed]",
      "text/plain": [
       "<Figure size 1080x720 with 4 Axes>"
      ]
     },
     "metadata": {
      "needs_background": "light"
     },
     "output_type": "display_data"
    }
   ],
   "source": [
    "fig,ax=plt.subplots(2,2,figsize=(15,10))\n",
    "#Number of Washrooms in house\n",
    "sns.countplot(hou[\"Nbwashrooms\"],ax=ax[0][0])\n",
    "ax[0][1].pie(x=hou[\"Nbwashrooms\"].value_counts(),labels=hou[\"Nbwashrooms\"].value_counts().index,autopct='%.2f%%')\n",
    "ax[0][1].title.set_text('Number of Washroom');\n",
    "\n",
    "#Total number of washrooms\n",
    "sns.countplot(hou[\"Twashrooms\"],ax=ax[1][0])\n",
    "ax[1][1].pie(x=hou[\"Twashrooms\"].value_counts(),labels=hou[\"Twashrooms\"].value_counts().index,autopct='%.2f%%')\n",
    "ax[1][1].title.set_text('Total number of washrooms');"
   ]
  },
  {
   "cell_type": "markdown",
   "id": "b751f3b7",
   "metadata": {},
   "source": [
    "5 number of NBwashrooms are larger in number as compared to other."
   ]
  },
  {
   "cell_type": "markdown",
   "id": "02f74cb4",
   "metadata": {},
   "source": [
    "6 number of washrooms are larger in number as compared to other."
   ]
  },
  {
   "cell_type": "markdown",
   "id": "7506d780",
   "metadata": {},
   "source": [
    "#### Bi-variate analysis."
   ]
  },
  {
   "cell_type": "code",
   "execution_count": 11,
   "id": "420e8870",
   "metadata": {},
   "outputs": [
    {
     "data": {
      "image/png": "[encoded data removed]",
      "text/plain": [
       "<Figure size 432x288 with 1 Axes>"
      ]
     },
     "metadata": {
      "needs_background": "light"
     },
     "output_type": "display_data"
    }
   ],
   "source": [
    "#Number of floors w.r.t having roof or not\n",
    "sns.countplot(x=hou['Nfloors'],hue=hou['roof']);"
   ]
  },
  {
   "cell_type": "markdown",
   "id": "5c84bebe",
   "metadata": {},
   "source": [
    "Grade D houses are more in number in price ranging upto 3700."
   ]
  },
  {
   "cell_type": "code",
   "execution_count": 12,
   "id": "62e90015",
   "metadata": {},
   "outputs": [
    {
     "data": {
      "image/png": "[encoded data removed]",
      "text/plain": [
       "<Figure size 720x720 with 1 Axes>"
      ]
     },
     "metadata": {
      "needs_background": "light"
     },
     "output_type": "display_data"
    }
   ],
   "source": [
    "#Area of house w.r.t to Grade of house\n",
    "plt.figure(figsize=(10,10))\n",
    "sns.boxplot(x=hou['Area(total)'],y=hou['Grade']);"
   ]
  },
  {
   "cell_type": "markdown",
   "id": "e510f412",
   "metadata": {},
   "source": [
    "Grade D house are larger in all total areas given."
   ]
  },
  {
   "cell_type": "code",
   "execution_count": 13,
   "id": "388bf49b",
   "metadata": {},
   "outputs": [
    {
     "data": {
      "image/png": "[encoded data removed]",
      "text/plain": [
       "<Figure size 1440x360 with 2 Axes>"
      ]
     },
     "metadata": {
      "needs_background": "light"
     },
     "output_type": "display_data"
    }
   ],
   "source": [
    "#Total Rooms in house w.r.t to Grade of house\n",
    "fig,ax=plt.subplots(1,2,figsize=(20,5))\n",
    "sns.histplot(x=hou['Trooms'],hue=hou['Grade'],multiple='dodge',ax=ax[0],legend=False)\n",
    "\n",
    "\n",
    "#Number of bedrooms in house w.r.t to Grade of house\n",
    "sns.histplot(x=hou['Nbedrooms'],hue=hou['Grade'],multiple='dodge',ax=ax[1]);"
   ]
  },
  {
   "cell_type": "markdown",
   "id": "8743711a",
   "metadata": {},
   "source": [
    "Total Rooms:\n",
    "\n",
    "Grade D house have more 5-6 rooms houses.\n",
    "\n",
    "Grade C house have more 7 rooms houses.\n",
    "\n",
    "Grade B house have more 8 rooms houses.\n",
    "\n",
    "Grade A house have more 9 rooms houses."
   ]
  },
  {
   "cell_type": "markdown",
   "id": "b11a2365",
   "metadata": {},
   "source": [
    "Number of bedrooms:\n",
    "\n",
    "Grade D house have more 2-4 bedrooms houses.\n",
    "\n",
    "Grade C house have more 5 bedrooms houses.\n",
    "\n",
    "Grade B house have more 6-7 bedrooms houses.\n",
    "\n",
    "Grade A house have more 9 bedrooms houses."
   ]
  },
  {
   "cell_type": "code",
   "execution_count": 14,
   "id": "ef25083a",
   "metadata": {},
   "outputs": [
    {
     "data": {
      "image/png": "[encoded data removed]",
      "text/plain": [
       "<Figure size 1440x360 with 2 Axes>"
      ]
     },
     "metadata": {
      "needs_background": "light"
     },
     "output_type": "display_data"
    }
   ],
   "source": [
    "fig,ax=plt.subplots(1,2,figsize=(20,5))\n",
    "#Total washroom in house w.r.t to Grade of house\n",
    "sns.histplot(x=hou['Twashrooms'],hue=hou['Grade'],multiple='dodge',ax=ax[0],legend=False);\n",
    "\n",
    "#Number of attached washroom in house w.r.t to Grade of house\n",
    "sns.histplot(x=hou['Nbwashrooms'],hue=hou['Grade'],multiple='dodge',ax=ax[1]);"
   ]
  },
  {
   "cell_type": "markdown",
   "id": "1a9c6c0c",
   "metadata": {},
   "source": [
    "Total washroom:\n",
    "\n",
    "Grade D house have more 2-5 washrooms houses.\n",
    "\n",
    "Grade C house have more 6 washrooms houses.\n",
    "\n",
    "Grade B and C house have more 7 washrooms houses.\n",
    "\n",
    "Grade B house have more 8 washrooms houses.\n",
    "\n",
    "Grade A house have more 9-10 washrooms houses.\n"
   ]
  },
  {
   "cell_type": "markdown",
   "id": "b413add2",
   "metadata": {},
   "source": [
    "Number of attached washroom :\n",
    "\n",
    "Grade D house have more 1-4 attached washrooms houses.\n",
    "\n",
    "Grade C house have more 5 attached washrooms houses.\n",
    "\n",
    "Grade D house have more 6 attached washrooms houses.\n",
    "\n",
    "Grade A house have more 7-8 attached washrooms houses.\n"
   ]
  },
  {
   "cell_type": "code",
   "execution_count": 15,
   "id": "1a75cac5",
   "metadata": {},
   "outputs": [
    {
     "data": {
      "image/png": "[encoded data removed]",
      "text/plain": [
       "<Figure size 432x288 with 1 Axes>"
      ]
     },
     "metadata": {
      "needs_background": "light"
     },
     "output_type": "display_data"
    }
   ],
   "source": [
    "\n",
    "#Roof Area of house w.r.t to Grade of house\n",
    "sns.boxplot(x=hou['Roof(Area)'],y=hou['Grade']);\n",
    "\n"
   ]
  },
  {
   "cell_type": "code",
   "execution_count": 16,
   "id": "89b67e1d",
   "metadata": {},
   "outputs": [
    {
     "data": {
      "image/png": "[encoded data removed]",
      "text/plain": [
       "<Figure size 432x288 with 1 Axes>"
      ]
     },
     "metadata": {
      "needs_background": "light"
     },
     "output_type": "display_data"
    }
   ],
   "source": [
    "#Lawn area in house w.r.t to Grade of house\n",
    "sns.boxplot(x=hou['Lawn(Area)'],y=hou['Grade']);"
   ]
  },
  {
   "cell_type": "markdown",
   "id": "350d6aa7",
   "metadata": {},
   "source": [
    "Lawn Area is greatest in grade C houses followed by grade C houses."
   ]
  },
  {
   "cell_type": "code",
   "execution_count": 17,
   "id": "8b09af2d",
   "metadata": {},
   "outputs": [
    {
     "data": {
      "image/png": "[encoded data removed]",
      "text/plain": [
       "<Figure size 360x360 with 2 Axes>"
      ]
     },
     "metadata": {
      "needs_background": "light"
     },
     "output_type": "display_data"
    }
   ],
   "source": [
    "#Air Pollution Index in house w.r.t to Grade of house\n",
    "sns.displot(y=hou['API'],x=hou['Grade'],cbar=True);"
   ]
  },
  {
   "cell_type": "markdown",
   "id": "9af05b79",
   "metadata": {},
   "source": [
    "Density of Grade D houses is more as well as there are more houses whose  Airpollution Index is also more for them."
   ]
  },
  {
   "cell_type": "code",
   "execution_count": 18,
   "id": "031ebb63",
   "metadata": {},
   "outputs": [
    {
     "data": {
      "image/png": "[encoded data removed]",
      "text/plain": [
       "<Figure size 1080x720 with 1 Axes>"
      ]
     },
     "metadata": {
      "needs_background": "light"
     },
     "output_type": "display_data"
    }
   ],
   "source": [
    "#Expected price w.r.t to Grade of house\n",
    "plt.figure(figsize=(15,10))\n",
    "sns.histplot(x=hou['Expected price'],hue=hou['Grade'],multiple='dodge');"
   ]
  },
  {
   "cell_type": "code",
   "execution_count": 19,
   "id": "334f3c3c",
   "metadata": {},
   "outputs": [
    {
     "data": {
      "text/html": [
       "<div>\n",
       "<style scoped>\n",
       "    .dataframe tbody tr th:only-of-type {\n",
       "        vertical-align: middle;\n",
       "    }\n",
       "\n",
       "    .dataframe tbody tr th {\n",
       "        vertical-align: top;\n",
       "    }\n",
       "\n",
       "    .dataframe thead th {\n",
       "        text-align: right;\n",
       "    }\n",
       "</style>\n",
       "<table border=\"1\" class=\"dataframe\">\n",
       "  <thead>\n",
       "    <tr style=\"text-align: right;\">\n",
       "      <th></th>\n",
       "      <th>Area(total)</th>\n",
       "      <th>Trooms</th>\n",
       "      <th>Nbedrooms</th>\n",
       "      <th>Nbwashrooms</th>\n",
       "      <th>Twashrooms</th>\n",
       "      <th>roof</th>\n",
       "      <th>Roof(Area)</th>\n",
       "      <th>Lawn(Area)</th>\n",
       "      <th>Nfloors</th>\n",
       "      <th>API</th>\n",
       "      <th>ANB</th>\n",
       "      <th>Expected price</th>\n",
       "      <th>Grade</th>\n",
       "    </tr>\n",
       "  </thead>\n",
       "  <tbody>\n",
       "    <tr>\n",
       "      <th>0</th>\n",
       "      <td>339</td>\n",
       "      <td>6</td>\n",
       "      <td>5</td>\n",
       "      <td>4</td>\n",
       "      <td>6</td>\n",
       "      <td>NO</td>\n",
       "      <td>0</td>\n",
       "      <td>76</td>\n",
       "      <td>2</td>\n",
       "      <td>79</td>\n",
       "      <td>6</td>\n",
       "      <td>3481</td>\n",
       "      <td>D</td>\n",
       "    </tr>\n",
       "    <tr>\n",
       "      <th>1</th>\n",
       "      <td>358</td>\n",
       "      <td>5</td>\n",
       "      <td>4</td>\n",
       "      <td>3</td>\n",
       "      <td>4</td>\n",
       "      <td>YES</td>\n",
       "      <td>71</td>\n",
       "      <td>96</td>\n",
       "      <td>3</td>\n",
       "      <td>72</td>\n",
       "      <td>4</td>\n",
       "      <td>3510</td>\n",
       "      <td>D</td>\n",
       "    </tr>\n",
       "    <tr>\n",
       "      <th>2</th>\n",
       "      <td>324</td>\n",
       "      <td>7</td>\n",
       "      <td>5</td>\n",
       "      <td>4</td>\n",
       "      <td>5</td>\n",
       "      <td>YES</td>\n",
       "      <td>101</td>\n",
       "      <td>117</td>\n",
       "      <td>5</td>\n",
       "      <td>64</td>\n",
       "      <td>3</td>\n",
       "      <td>3748</td>\n",
       "      <td>C</td>\n",
       "    </tr>\n",
       "    <tr>\n",
       "      <th>3</th>\n",
       "      <td>330</td>\n",
       "      <td>6</td>\n",
       "      <td>4</td>\n",
       "      <td>3</td>\n",
       "      <td>5</td>\n",
       "      <td>YES</td>\n",
       "      <td>101</td>\n",
       "      <td>82</td>\n",
       "      <td>2</td>\n",
       "      <td>59</td>\n",
       "      <td>2</td>\n",
       "      <td>3134</td>\n",
       "      <td>D</td>\n",
       "    </tr>\n",
       "    <tr>\n",
       "      <th>4</th>\n",
       "      <td>320</td>\n",
       "      <td>7</td>\n",
       "      <td>4</td>\n",
       "      <td>4</td>\n",
       "      <td>5</td>\n",
       "      <td>NO</td>\n",
       "      <td>0</td>\n",
       "      <td>75</td>\n",
       "      <td>3</td>\n",
       "      <td>40</td>\n",
       "      <td>1</td>\n",
       "      <td>3843</td>\n",
       "      <td>D</td>\n",
       "    </tr>\n",
       "  </tbody>\n",
       "</table>\n",
       "</div>"
      ],
      "text/plain": [
       "   Area(total)  Trooms  Nbedrooms  Nbwashrooms  Twashrooms roof  Roof(Area)  \\\n",
       "0          339       6          5            4           6   NO           0   \n",
       "1          358       5          4            3           4  YES          71   \n",
       "2          324       7          5            4           5  YES         101   \n",
       "3          330       6          4            3           5  YES         101   \n",
       "4          320       7          4            4           5   NO           0   \n",
       "\n",
       "   Lawn(Area)  Nfloors  API  ANB  Expected price Grade  \n",
       "0          76        2   79    6            3481     D  \n",
       "1          96        3   72    4            3510     D  \n",
       "2         117        5   64    3            3748     C  \n",
       "3          82        2   59    2            3134     D  \n",
       "4          75        3   40    1            3843     D  "
      ]
     },
     "execution_count": 19,
     "metadata": {},
     "output_type": "execute_result"
    }
   ],
   "source": [
    "hous=hou.drop('Id',axis=1) # as its just unique value for all entries and doesn't affecting the price or grade of houses.\n",
    "hous.head()"
   ]
  },
  {
   "cell_type": "markdown",
   "id": "b9270af3",
   "metadata": {},
   "source": [
    "'Id' feature doesn't help in grade of house so dropped it."
   ]
  },
  {
   "cell_type": "code",
   "execution_count": 20,
   "id": "a4d5bd7a",
   "metadata": {},
   "outputs": [
    {
     "data": {
      "text/html": [
       "<div>\n",
       "<style scoped>\n",
       "    .dataframe tbody tr th:only-of-type {\n",
       "        vertical-align: middle;\n",
       "    }\n",
       "\n",
       "    .dataframe tbody tr th {\n",
       "        vertical-align: top;\n",
       "    }\n",
       "\n",
       "    .dataframe thead th {\n",
       "        text-align: right;\n",
       "    }\n",
       "</style>\n",
       "<table border=\"1\" class=\"dataframe\">\n",
       "  <thead>\n",
       "    <tr style=\"text-align: right;\">\n",
       "      <th></th>\n",
       "      <th>Area(total)</th>\n",
       "      <th>Trooms</th>\n",
       "      <th>Nbedrooms</th>\n",
       "      <th>Nbwashrooms</th>\n",
       "      <th>Twashrooms</th>\n",
       "      <th>roof</th>\n",
       "      <th>Roof(Area)</th>\n",
       "      <th>Lawn(Area)</th>\n",
       "      <th>Nfloors</th>\n",
       "      <th>API</th>\n",
       "      <th>ANB</th>\n",
       "      <th>Expected price</th>\n",
       "      <th>Grade</th>\n",
       "    </tr>\n",
       "  </thead>\n",
       "  <tbody>\n",
       "    <tr>\n",
       "      <th>0</th>\n",
       "      <td>339</td>\n",
       "      <td>6</td>\n",
       "      <td>5</td>\n",
       "      <td>4</td>\n",
       "      <td>6</td>\n",
       "      <td>0</td>\n",
       "      <td>0</td>\n",
       "      <td>76</td>\n",
       "      <td>2</td>\n",
       "      <td>79</td>\n",
       "      <td>6</td>\n",
       "      <td>3481</td>\n",
       "      <td>3</td>\n",
       "    </tr>\n",
       "    <tr>\n",
       "      <th>1</th>\n",
       "      <td>358</td>\n",
       "      <td>5</td>\n",
       "      <td>4</td>\n",
       "      <td>3</td>\n",
       "      <td>4</td>\n",
       "      <td>1</td>\n",
       "      <td>71</td>\n",
       "      <td>96</td>\n",
       "      <td>3</td>\n",
       "      <td>72</td>\n",
       "      <td>4</td>\n",
       "      <td>3510</td>\n",
       "      <td>3</td>\n",
       "    </tr>\n",
       "    <tr>\n",
       "      <th>2</th>\n",
       "      <td>324</td>\n",
       "      <td>7</td>\n",
       "      <td>5</td>\n",
       "      <td>4</td>\n",
       "      <td>5</td>\n",
       "      <td>1</td>\n",
       "      <td>101</td>\n",
       "      <td>117</td>\n",
       "      <td>5</td>\n",
       "      <td>64</td>\n",
       "      <td>3</td>\n",
       "      <td>3748</td>\n",
       "      <td>2</td>\n",
       "    </tr>\n",
       "    <tr>\n",
       "      <th>3</th>\n",
       "      <td>330</td>\n",
       "      <td>6</td>\n",
       "      <td>4</td>\n",
       "      <td>3</td>\n",
       "      <td>5</td>\n",
       "      <td>1</td>\n",
       "      <td>101</td>\n",
       "      <td>82</td>\n",
       "      <td>2</td>\n",
       "      <td>59</td>\n",
       "      <td>2</td>\n",
       "      <td>3134</td>\n",
       "      <td>3</td>\n",
       "    </tr>\n",
       "    <tr>\n",
       "      <th>4</th>\n",
       "      <td>320</td>\n",
       "      <td>7</td>\n",
       "      <td>4</td>\n",
       "      <td>4</td>\n",
       "      <td>5</td>\n",
       "      <td>0</td>\n",
       "      <td>0</td>\n",
       "      <td>75</td>\n",
       "      <td>3</td>\n",
       "      <td>40</td>\n",
       "      <td>1</td>\n",
       "      <td>3843</td>\n",
       "      <td>3</td>\n",
       "    </tr>\n",
       "  </tbody>\n",
       "</table>\n",
       "</div>"
      ],
      "text/plain": [
       "   Area(total)  Trooms  Nbedrooms  Nbwashrooms  Twashrooms  roof  Roof(Area)  \\\n",
       "0          339       6          5            4           6     0           0   \n",
       "1          358       5          4            3           4     1          71   \n",
       "2          324       7          5            4           5     1         101   \n",
       "3          330       6          4            3           5     1         101   \n",
       "4          320       7          4            4           5     0           0   \n",
       "\n",
       "   Lawn(Area)  Nfloors  API  ANB  Expected price  Grade  \n",
       "0          76        2   79    6            3481      3  \n",
       "1          96        3   72    4            3510      3  \n",
       "2         117        5   64    3            3748      2  \n",
       "3          82        2   59    2            3134      3  \n",
       "4          75        3   40    1            3843      3  "
      ]
     },
     "execution_count": 20,
     "metadata": {},
     "output_type": "execute_result"
    }
   ],
   "source": [
    "#Done labelling for categorical datatype\n",
    "le=preprocessing.LabelEncoder()\n",
    "hous['roof']=le.fit_transform(hous['roof'])\n",
    "hous['Grade']=le.fit_transform(hous['Grade'])\n",
    "hous.head()"
   ]
  },
  {
   "cell_type": "code",
   "execution_count": 21,
   "id": "d5b224c6",
   "metadata": {},
   "outputs": [
    {
     "data": {
      "image/png": "[encoded data removed]",
      "text/plain": [
       "<Figure size 720x720 with 2 Axes>"
      ]
     },
     "metadata": {
      "needs_background": "light"
     },
     "output_type": "display_data"
    }
   ],
   "source": [
    "#Seeing correlation for feature selection\n",
    "plt.figure(figsize=(10,10))\n",
    "sns.heatmap(hous.corr(),annot=True);"
   ]
  },
  {
   "cell_type": "markdown",
   "id": "c1d4368e",
   "metadata": {},
   "source": [
    "As target variable is categorical so we will build classifiation model.\n",
    "\n",
    "Here are target variable is Grade.\n",
    "\n",
    "Here we can drop the feature/columns which are less correlated with the target column.\n",
    "\n",
    "So we are drooping Area(total),roof,Roof(Area),Lawn(Area),API,ANB as they are less correlated with target column."
   ]
  },
  {
   "cell_type": "code",
   "execution_count": 22,
   "id": "81e7cfbb",
   "metadata": {},
   "outputs": [],
   "source": [
    "hous.drop(['Area(total)','roof','Roof(Area)','Lawn(Area)','API','ANB'],axis=1,inplace=True)"
   ]
  },
  {
   "cell_type": "code",
   "execution_count": 23,
   "id": "e5bc684a",
   "metadata": {},
   "outputs": [
    {
     "data": {
      "text/plain": [
       "(3000, 7)"
      ]
     },
     "execution_count": 23,
     "metadata": {},
     "output_type": "execute_result"
    }
   ],
   "source": [
    "hous.shape"
   ]
  },
  {
   "cell_type": "markdown",
   "id": "3f92689c",
   "metadata": {},
   "source": [
    "### Training and testing Split."
   ]
  },
  {
   "cell_type": "code",
   "execution_count": 24,
   "id": "6201408a",
   "metadata": {},
   "outputs": [],
   "source": [
    "X=hous.iloc[:,:6] \n",
    "y=hous.iloc[:,-1] \n",
    "\n",
    "X_train,X_test,y_train,y_test =train_test_split(X,y,test_size=.3,stratify=y,random_state=22) #test size is taken 30% of the data\n",
    "\n",
    "#Scaling the data \n",
    "scaler=preprocessing.StandardScaler()\n",
    "X_train=scaler.fit_transform(X_train)\n",
    "X_test=scaler.transform(X_test)"
   ]
  },
  {
   "cell_type": "markdown",
   "id": "9f619545",
   "metadata": {},
   "source": [
    "### Going to implement various classification model."
   ]
  },
  {
   "cell_type": "markdown",
   "id": "63253962",
   "metadata": {},
   "source": [
    "### Logistics Regression"
   ]
  },
  {
   "cell_type": "code",
   "execution_count": 25,
   "id": "b18e159f",
   "metadata": {},
   "outputs": [],
   "source": [
    "from sklearn.linear_model import LogisticRegression "
   ]
  },
  {
   "cell_type": "markdown",
   "id": "61c738d4",
   "metadata": {},
   "source": [
    "### Model fitting and building"
   ]
  },
  {
   "cell_type": "code",
   "execution_count": 26,
   "id": "9647c1a0",
   "metadata": {},
   "outputs": [
    {
     "data": {
      "text/plain": [
       "LogisticRegression()"
      ]
     },
     "execution_count": 26,
     "metadata": {},
     "output_type": "execute_result"
    }
   ],
   "source": [
    "log_model=LogisticRegression()\n",
    "log_model.fit(X_train,y_train)"
   ]
  },
  {
   "cell_type": "markdown",
   "id": "852eae42",
   "metadata": {},
   "source": [
    "### Training model score."
   ]
  },
  {
   "cell_type": "code",
   "execution_count": 27,
   "id": "3dc666ed",
   "metadata": {},
   "outputs": [
    {
     "data": {
      "text/plain": [
       "0.8066666666666666"
      ]
     },
     "execution_count": 27,
     "metadata": {},
     "output_type": "execute_result"
    }
   ],
   "source": [
    "log_model.score(X_train,y_train)"
   ]
  },
  {
   "cell_type": "markdown",
   "id": "c6a81b1b",
   "metadata": {},
   "source": [
    "### Training model score"
   ]
  },
  {
   "cell_type": "code",
   "execution_count": 28,
   "id": "6a858e4e",
   "metadata": {},
   "outputs": [],
   "source": [
    "y_pred_log=log_model.predict(X_test)"
   ]
  },
  {
   "cell_type": "markdown",
   "id": "fcad43cb",
   "metadata": {},
   "source": [
    "### Calculating Various Score Parameter."
   ]
  },
  {
   "cell_type": "code",
   "execution_count": 29,
   "id": "a6277d94",
   "metadata": {},
   "outputs": [
    {
     "name": "stdout",
     "output_type": "stream",
     "text": [
      "\n",
      "Confuion Matrix:  \n",
      " [[106  15   0   0   0]\n",
      " [ 13 115  16   0   0]\n",
      " [  0  32 142  34   0]\n",
      " [  0   0  57 347  23]\n",
      " [  0   0   0   0   0]] \n",
      "Precision Score:  0.818083880151856 \n",
      "Accuracy score:  0.7888888888888889 \n",
      "f1-score:  0.8016929957214884 \n",
      "Recall Score:  0.7888888888888889\n"
     ]
    }
   ],
   "source": [
    "conf_log=confusion_matrix(y_pred_log,y_test)\n",
    "prec_log=precision_score(y_pred_log,y_test,average='weighted')\n",
    "accu_log=accuracy_score(y_pred_log,y_test)\n",
    "f1_log  =f1_score(y_pred_log,y_test,average='weighted')\n",
    "rec_log =recall_score(y_pred_log,y_test,average='weighted')\n",
    "print('\\nConfuion Matrix: ','\\n',conf_log,'\\nPrecision Score: ',prec_log,'\\nAccuracy score: ',accu_log,\n",
    "     '\\nf1-score: ',f1_log,'\\nRecall Score: ',rec_log)"
   ]
  },
  {
   "cell_type": "markdown",
   "id": "3fc15500",
   "metadata": {},
   "source": [
    "### Naive Bayes"
   ]
  },
  {
   "cell_type": "code",
   "execution_count": 30,
   "id": "99333e35",
   "metadata": {},
   "outputs": [],
   "source": [
    "from sklearn.naive_bayes import GaussianNB"
   ]
  },
  {
   "cell_type": "markdown",
   "id": "fe76502d",
   "metadata": {},
   "source": [
    "### Model fitting and building"
   ]
  },
  {
   "cell_type": "code",
   "execution_count": 31,
   "id": "7a2fb1d3",
   "metadata": {},
   "outputs": [
    {
     "data": {
      "text/plain": [
       "GaussianNB()"
      ]
     },
     "execution_count": 31,
     "metadata": {},
     "output_type": "execute_result"
    }
   ],
   "source": [
    "nb_model=GaussianNB()\n",
    "nb_model.fit(X_train,y_train)"
   ]
  },
  {
   "cell_type": "markdown",
   "id": "f88f17c0",
   "metadata": {},
   "source": [
    "### Training model score."
   ]
  },
  {
   "cell_type": "code",
   "execution_count": 32,
   "id": "dbe87707",
   "metadata": {},
   "outputs": [
    {
     "data": {
      "text/plain": [
       "0.7371428571428571"
      ]
     },
     "execution_count": 32,
     "metadata": {},
     "output_type": "execute_result"
    }
   ],
   "source": [
    "nb_model.score(X_train,y_train)"
   ]
  },
  {
   "cell_type": "markdown",
   "id": "e8ad873d",
   "metadata": {},
   "source": [
    "### Prediction on Testing dataset."
   ]
  },
  {
   "cell_type": "code",
   "execution_count": 33,
   "id": "6d72c62f",
   "metadata": {},
   "outputs": [],
   "source": [
    "y_pred_nb=nb_model.predict(X_test)"
   ]
  },
  {
   "cell_type": "markdown",
   "id": "34cfd36e",
   "metadata": {},
   "source": [
    "### Calculating Various Score Parameter."
   ]
  },
  {
   "cell_type": "code",
   "execution_count": 34,
   "id": "7ceb263c",
   "metadata": {},
   "outputs": [
    {
     "name": "stdout",
     "output_type": "stream",
     "text": [
      "\n",
      "Confuion Matrix:  \n",
      " [[106  13   0   0   0]\n",
      " [ 13 126  23   0   0]\n",
      " [  0  23 154  61   0]\n",
      " [  0   0  38 267   7]\n",
      " [  0   0   0  53  16]] \n",
      "Precision Score:  0.7434667643288775 \n",
      "Accuracy score:  0.7433333333333333 \n",
      "f1-score:  0.7313717432922732 \n",
      "Recall Score:  0.7433333333333333\n"
     ]
    }
   ],
   "source": [
    "conf_nb=confusion_matrix(y_pred_nb,y_test)\n",
    "prec_nb=precision_score(y_pred_nb,y_test,average='weighted')\n",
    "accu_nb=accuracy_score(y_pred_nb,y_test)\n",
    "f1_nb  =f1_score(y_pred_nb,y_test,average='weighted')\n",
    "rec_nb =recall_score(y_pred_nb,y_test,average='weighted')\n",
    "print('\\nConfuion Matrix: ','\\n',conf_nb,'\\nPrecision Score: ',prec_nb,'\\nAccuracy score: ',accu_nb,\n",
    "     '\\nf1-score: ',f1_nb,'\\nRecall Score: ',rec_nb)"
   ]
  },
  {
   "cell_type": "markdown",
   "id": "dcd4f074",
   "metadata": {},
   "source": [
    "### Decision tree Classifier"
   ]
  },
  {
   "cell_type": "code",
   "execution_count": 35,
   "id": "0f6060c1",
   "metadata": {},
   "outputs": [],
   "source": [
    "from sklearn.tree import DecisionTreeClassifier"
   ]
  },
  {
   "cell_type": "markdown",
   "id": "cce3e0cf",
   "metadata": {},
   "source": [
    "### Model fitting and building"
   ]
  },
  {
   "cell_type": "code",
   "execution_count": 36,
   "id": "3630a8b3",
   "metadata": {},
   "outputs": [
    {
     "data": {
      "text/plain": [
       "DecisionTreeClassifier(max_depth=4)"
      ]
     },
     "execution_count": 36,
     "metadata": {},
     "output_type": "execute_result"
    }
   ],
   "source": [
    "dtr_model=DecisionTreeClassifier(max_depth=4)\n",
    "dtr_model.fit(X_train,y_train)"
   ]
  },
  {
   "cell_type": "markdown",
   "id": "edd524fb",
   "metadata": {},
   "source": [
    "### Training model score."
   ]
  },
  {
   "cell_type": "code",
   "execution_count": 37,
   "id": "9745643e",
   "metadata": {},
   "outputs": [
    {
     "data": {
      "text/plain": [
       "0.780952380952381"
      ]
     },
     "execution_count": 37,
     "metadata": {},
     "output_type": "execute_result"
    }
   ],
   "source": [
    "dtr_model.score(X_train,y_train)"
   ]
  },
  {
   "cell_type": "markdown",
   "id": "15b6e635",
   "metadata": {},
   "source": [
    "### Prediction on Testing dataset."
   ]
  },
  {
   "cell_type": "code",
   "execution_count": 38,
   "id": "aae659d3",
   "metadata": {},
   "outputs": [],
   "source": [
    "y_pred_dtr=dtr_model.predict(X_test)"
   ]
  },
  {
   "cell_type": "markdown",
   "id": "a0d14602",
   "metadata": {},
   "source": [
    "### Calculating Various Score Parameter."
   ]
  },
  {
   "cell_type": "code",
   "execution_count": 39,
   "id": "9d0d8d7a",
   "metadata": {},
   "outputs": [
    {
     "name": "stdout",
     "output_type": "stream",
     "text": [
      "\n",
      "Confuion Matrix:  \n",
      " [[ 95   6   0   0   0]\n",
      " [ 24 107   5   0   0]\n",
      " [  0  49 146  35   0]\n",
      " [  0   0  64 346  23]\n",
      " [  0   0   0   0   0]] \n",
      "Precision Score:  0.7998517291323959 \n",
      "Accuracy score:  0.7711111111111111 \n",
      "f1-score:  0.7821291607503054 \n",
      "Recall Score:  0.7711111111111111\n"
     ]
    }
   ],
   "source": [
    "conf_dtr=confusion_matrix(y_pred_dtr,y_test)\n",
    "prec_dtr=precision_score(y_pred_dtr,y_test,average='weighted')\n",
    "accu_dtr=accuracy_score(y_pred_dtr,y_test)\n",
    "f1_dtr =f1_score(y_pred_dtr,y_test,average='weighted')\n",
    "rec_dtr =recall_score(y_pred_dtr,y_test,average='weighted')\n",
    "print('\\nConfuion Matrix: ','\\n',conf_dtr,'\\nPrecision Score: ',prec_dtr,'\\nAccuracy score: ',accu_dtr,\n",
    "     '\\nf1-score: ',f1_dtr,'\\nRecall Score: ',rec_dtr)"
   ]
  },
  {
   "cell_type": "markdown",
   "id": "c2f57929",
   "metadata": {},
   "source": [
    "### Bagging"
   ]
  },
  {
   "cell_type": "markdown",
   "id": "797e17b6",
   "metadata": {},
   "source": [
    "### Model fitting and building"
   ]
  },
  {
   "cell_type": "code",
   "execution_count": 40,
   "id": "64416533",
   "metadata": {},
   "outputs": [
    {
     "data": {
      "text/plain": [
       "RandomForestClassifier()"
      ]
     },
     "execution_count": 40,
     "metadata": {},
     "output_type": "execute_result"
    }
   ],
   "source": [
    "from sklearn.ensemble import RandomForestClassifier\n",
    "RND_model=RandomForestClassifier()\n",
    "RND_model.fit(X_train,y_train)"
   ]
  },
  {
   "cell_type": "markdown",
   "id": "5786a53d",
   "metadata": {},
   "source": [
    "### Training model score."
   ]
  },
  {
   "cell_type": "code",
   "execution_count": 41,
   "id": "ec68ccb7",
   "metadata": {},
   "outputs": [
    {
     "data": {
      "text/plain": [
       "0.9980952380952381"
      ]
     },
     "execution_count": 41,
     "metadata": {},
     "output_type": "execute_result"
    }
   ],
   "source": [
    "RND_model.score(X_train,y_train)"
   ]
  },
  {
   "cell_type": "markdown",
   "id": "2f612001",
   "metadata": {},
   "source": [
    "### Prediction on Testing dataset."
   ]
  },
  {
   "cell_type": "code",
   "execution_count": 42,
   "id": "4e4dc144",
   "metadata": {},
   "outputs": [],
   "source": [
    "y_pred_RND=RND_model.predict(X_test)"
   ]
  },
  {
   "cell_type": "markdown",
   "id": "b8ae0178",
   "metadata": {},
   "source": [
    "### Calculating Various Score Parameter."
   ]
  },
  {
   "cell_type": "code",
   "execution_count": 43,
   "id": "5b5e02aa",
   "metadata": {},
   "outputs": [
    {
     "name": "stdout",
     "output_type": "stream",
     "text": [
      "\n",
      "Confuion Matrix:  \n",
      " [[103  18   0   0   0]\n",
      " [ 16 100  17   0   0]\n",
      " [  0  41 137  48   0]\n",
      " [  0   3  61 325  22]\n",
      " [  0   0   0   8   1]] \n",
      "Precision Score:  0.7575789063595371 \n",
      "Accuracy score:  0.74 \n",
      "f1-score:  0.7470201827549486 \n",
      "Recall Score:  0.74\n"
     ]
    }
   ],
   "source": [
    "conf_RND=confusion_matrix(y_pred_RND,y_test)\n",
    "prec_RND=precision_score(y_pred_RND,y_test,average='weighted')\n",
    "accu_RND=accuracy_score(y_pred_RND,y_test)\n",
    "f1_RND =f1_score(y_pred_RND,y_test,average='weighted')\n",
    "rec_RND =recall_score(y_pred_RND,y_test,average='weighted')\n",
    "print('\\nConfuion Matrix: ','\\n',conf_RND,'\\nPrecision Score: ',prec_RND,\n",
    "      '\\nAccuracy score: ',accu_RND,\n",
    "     '\\nf1-score: ',f1_RND,'\\nRecall Score: ',rec_RND)"
   ]
  },
  {
   "cell_type": "markdown",
   "id": "bda2e992",
   "metadata": {},
   "source": [
    "### Boosting "
   ]
  },
  {
   "cell_type": "markdown",
   "id": "e8b27c66",
   "metadata": {},
   "source": [
    "### Model fitting and building"
   ]
  },
  {
   "cell_type": "code",
   "execution_count": 44,
   "id": "50a18481",
   "metadata": {},
   "outputs": [
    {
     "data": {
      "text/plain": [
       "AdaBoostClassifier()"
      ]
     },
     "execution_count": 44,
     "metadata": {},
     "output_type": "execute_result"
    }
   ],
   "source": [
    "from sklearn.ensemble import AdaBoostClassifier #importing required model classifier\n",
    "Ada_model=AdaBoostClassifier()\n",
    "Ada_model.fit(X_train,y_train)"
   ]
  },
  {
   "cell_type": "markdown",
   "id": "f993dd36",
   "metadata": {},
   "source": [
    "### Training model score."
   ]
  },
  {
   "cell_type": "code",
   "execution_count": 45,
   "id": "03b1ff18",
   "metadata": {},
   "outputs": [
    {
     "data": {
      "text/plain": [
       "0.7623809523809524"
      ]
     },
     "execution_count": 45,
     "metadata": {},
     "output_type": "execute_result"
    }
   ],
   "source": [
    "Ada_model.score(X_train,y_train)"
   ]
  },
  {
   "cell_type": "markdown",
   "id": "83eb7269",
   "metadata": {},
   "source": [
    "### Prediction on Testing dataset."
   ]
  },
  {
   "cell_type": "code",
   "execution_count": 46,
   "id": "8b1d4c1b",
   "metadata": {},
   "outputs": [],
   "source": [
    "y_pred_Ada=Ada_model.predict(X_test)"
   ]
  },
  {
   "cell_type": "markdown",
   "id": "1af61a48",
   "metadata": {},
   "source": [
    "### Calculating Various Score Parameter."
   ]
  },
  {
   "cell_type": "code",
   "execution_count": 47,
   "id": "2998c162",
   "metadata": {},
   "outputs": [
    {
     "name": "stdout",
     "output_type": "stream",
     "text": [
      "\n",
      "Confuion Matrix:  \n",
      " [[110  23   0   0   0]\n",
      " [  9  90   5   0   0]\n",
      " [  0  49 176  79   0]\n",
      " [  0   0  34 302  23]\n",
      " [  0   0   0   0   0]] \n",
      "Precision Score:  0.7934849422132008 \n",
      "Accuracy score:  0.7533333333333333 \n",
      "f1-score:  0.7618775445734173 \n",
      "Recall Score:  0.7533333333333333\n"
     ]
    }
   ],
   "source": [
    "conf_Ada=confusion_matrix(y_pred_Ada,y_test)\n",
    "prec_Ada=precision_score(y_pred_Ada,y_test,average='weighted')\n",
    "accu_Ada=accuracy_score(y_pred_Ada,y_test)\n",
    "f1_Ada =f1_score(y_pred_Ada,y_test,average='weighted')\n",
    "rec_Ada =recall_score(y_pred_Ada,y_test,average='weighted')\n",
    "print('\\nConfuion Matrix: ','\\n',conf_Ada,'\\nPrecision Score: ',prec_Ada,\n",
    "      '\\nAccuracy score: ',accu_Ada,\n",
    "     '\\nf1-score: ',f1_Ada,'\\nRecall Score: ',rec_Ada)"
   ]
  },
  {
   "cell_type": "markdown",
   "id": "1d56e1d2",
   "metadata": {},
   "source": [
    "### Stacking"
   ]
  },
  {
   "cell_type": "code",
   "execution_count": 48,
   "id": "6f1a180f",
   "metadata": {},
   "outputs": [],
   "source": [
    "from sklearn.svm import SVC\n",
    "from sklearn.ensemble import StackingClassifier"
   ]
  },
  {
   "cell_type": "code",
   "execution_count": 49,
   "id": "ea08081e",
   "metadata": {},
   "outputs": [],
   "source": [
    "def stacking():\n",
    "    stack=[]\n",
    "    stack.append(('LOG',LogisticRegression()))\n",
    "    stack.append(('NB',GaussianNB()))\n",
    "    stack.append(('DTC',DecisionTreeClassifier()))\n",
    "    stack.append(('SVC',SVC()))\n",
    "    meta_model=LogisticRegression()\n",
    "    model=StackingClassifier(estimators=stack,final_estimator=meta_model,cv=3)\n",
    "    return model"
   ]
  },
  {
   "cell_type": "markdown",
   "id": "0a223002",
   "metadata": {},
   "source": [
    "### Model fitting and building"
   ]
  },
  {
   "cell_type": "code",
   "execution_count": 50,
   "id": "1cd3a4a5",
   "metadata": {},
   "outputs": [
    {
     "data": {
      "text/plain": [
       "StackingClassifier(cv=3,\n",
       "                   estimators=[('LOG', LogisticRegression()),\n",
       "                               ('NB', GaussianNB()),\n",
       "                               ('DTC', DecisionTreeClassifier()),\n",
       "                               ('SVC', SVC())],\n",
       "                   final_estimator=LogisticRegression())"
      ]
     },
     "execution_count": 50,
     "metadata": {},
     "output_type": "execute_result"
    }
   ],
   "source": [
    "St_model=stacking()\n",
    "St_model.fit(X_train,y_train)"
   ]
  },
  {
   "cell_type": "markdown",
   "id": "c33205fb",
   "metadata": {},
   "source": [
    "### Training model score."
   ]
  },
  {
   "cell_type": "code",
   "execution_count": 51,
   "id": "4da05aaf",
   "metadata": {},
   "outputs": [
    {
     "data": {
      "text/plain": [
       "0.820952380952381"
      ]
     },
     "execution_count": 51,
     "metadata": {},
     "output_type": "execute_result"
    }
   ],
   "source": [
    "St_model.score(X_train,y_train)"
   ]
  },
  {
   "cell_type": "markdown",
   "id": "078edb65",
   "metadata": {},
   "source": [
    "### Prediction on Testing dataset."
   ]
  },
  {
   "cell_type": "code",
   "execution_count": 52,
   "id": "fcb0f7e9",
   "metadata": {},
   "outputs": [],
   "source": [
    "y_pred_St=St_model.predict(X_test)"
   ]
  },
  {
   "cell_type": "markdown",
   "id": "4074d392",
   "metadata": {},
   "source": [
    "### Calculating Various Score Parameter."
   ]
  },
  {
   "cell_type": "code",
   "execution_count": 53,
   "id": "b1e9e284",
   "metadata": {},
   "outputs": [
    {
     "name": "stdout",
     "output_type": "stream",
     "text": [
      "\n",
      "Confuion Matrix:  \n",
      " [[108  15   0   0   0]\n",
      " [ 11 117  15   0   0]\n",
      " [  0  30 137  27   0]\n",
      " [  0   0  63 354  23]\n",
      " [  0   0   0   0   0]] \n",
      "Precision Score:  0.8303839246306401 \n",
      "Accuracy score:  0.7955555555555556 \n",
      "f1-score:  0.8098911969127733 \n",
      "Recall Score:  0.7955555555555556\n"
     ]
    }
   ],
   "source": [
    "conf_St=confusion_matrix(y_pred_St,y_test)\n",
    "prec_St=precision_score(y_pred_St,y_test,average='weighted')\n",
    "accu_St=accuracy_score(y_pred_St,y_test)\n",
    "f1_St =f1_score(y_pred_St,y_test,average='weighted')\n",
    "rec_St =recall_score(y_pred_St,y_test,average='weighted')\n",
    "print('\\nConfuion Matrix: ','\\n',conf_St,'\\nPrecision Score: ',prec_St,\n",
    "      '\\nAccuracy score: ',accu_St,\n",
    "     '\\nf1-score: ',f1_St,'\\nRecall Score: ',rec_St)"
   ]
  },
  {
   "cell_type": "code",
   "execution_count": 54,
   "id": "9b337a4f",
   "metadata": {},
   "outputs": [
    {
     "data": {
      "text/html": [
       "<div>\n",
       "<style scoped>\n",
       "    .dataframe tbody tr th:only-of-type {\n",
       "        vertical-align: middle;\n",
       "    }\n",
       "\n",
       "    .dataframe tbody tr th {\n",
       "        vertical-align: top;\n",
       "    }\n",
       "\n",
       "    .dataframe thead th {\n",
       "        text-align: right;\n",
       "    }\n",
       "</style>\n",
       "<table border=\"1\" class=\"dataframe\">\n",
       "  <thead>\n",
       "    <tr style=\"text-align: right;\">\n",
       "      <th></th>\n",
       "      <th>Precision</th>\n",
       "      <th>Recall</th>\n",
       "      <th>f1-score</th>\n",
       "      <th>Accuracy</th>\n",
       "    </tr>\n",
       "    <tr>\n",
       "      <th>Model</th>\n",
       "      <th></th>\n",
       "      <th></th>\n",
       "      <th></th>\n",
       "      <th></th>\n",
       "    </tr>\n",
       "  </thead>\n",
       "  <tbody>\n",
       "    <tr>\n",
       "      <th>Logistic</th>\n",
       "      <td>0.818084</td>\n",
       "      <td>0.788889</td>\n",
       "      <td>0.801693</td>\n",
       "      <td>0.788889</td>\n",
       "    </tr>\n",
       "    <tr>\n",
       "      <th>Naive-Bayes</th>\n",
       "      <td>0.743467</td>\n",
       "      <td>0.743333</td>\n",
       "      <td>0.731372</td>\n",
       "      <td>0.743333</td>\n",
       "    </tr>\n",
       "    <tr>\n",
       "      <th>Decision Tree</th>\n",
       "      <td>0.799852</td>\n",
       "      <td>0.771111</td>\n",
       "      <td>0.782129</td>\n",
       "      <td>0.771111</td>\n",
       "    </tr>\n",
       "    <tr>\n",
       "      <th>Bagging</th>\n",
       "      <td>0.757579</td>\n",
       "      <td>0.740000</td>\n",
       "      <td>0.747020</td>\n",
       "      <td>0.753333</td>\n",
       "    </tr>\n",
       "    <tr>\n",
       "      <th>Boosting</th>\n",
       "      <td>0.793485</td>\n",
       "      <td>0.753333</td>\n",
       "      <td>0.761878</td>\n",
       "      <td>0.740000</td>\n",
       "    </tr>\n",
       "    <tr>\n",
       "      <th>Stacking</th>\n",
       "      <td>0.830384</td>\n",
       "      <td>0.795556</td>\n",
       "      <td>0.809891</td>\n",
       "      <td>0.795556</td>\n",
       "    </tr>\n",
       "  </tbody>\n",
       "</table>\n",
       "</div>"
      ],
      "text/plain": [
       "               Precision    Recall  f1-score  Accuracy\n",
       "Model                                                 \n",
       "Logistic        0.818084  0.788889  0.801693  0.788889\n",
       "Naive-Bayes     0.743467  0.743333  0.731372  0.743333\n",
       "Decision Tree   0.799852  0.771111  0.782129  0.771111\n",
       "Bagging         0.757579  0.740000  0.747020  0.753333\n",
       "Boosting        0.793485  0.753333  0.761878  0.740000\n",
       "Stacking        0.830384  0.795556  0.809891  0.795556"
      ]
     },
     "execution_count": 54,
     "metadata": {},
     "output_type": "execute_result"
    }
   ],
   "source": [
    "#Making Dataframe for comparison of various model's score's\n",
    "Comp=pd.DataFrame()\n",
    "Comp['Model']    =pd.Series(['Logistic','Naive-Bayes','Decision Tree','Bagging','Boosting','Stacking'])\n",
    "Comp['Precision']=pd.Series([prec_log,prec_nb,prec_dtr,prec_RND,prec_Ada,prec_St])\n",
    "Comp['Recall']   =pd.Series([rec_log,rec_nb,rec_dtr,rec_RND,rec_Ada,rec_St])\n",
    "Comp['f1-score'] =pd.Series([f1_log,f1_nb,f1_dtr,f1_RND,f1_Ada,f1_St])\n",
    "Comp['Accuracy'] =pd.Series([accu_log,accu_nb,accu_dtr,accu_Ada,accu_RND,accu_St])\n",
    "Comp.set_index('Model')"
   ]
  },
  {
   "cell_type": "markdown",
   "id": "274cc6e2",
   "metadata": {},
   "source": [
    "### As from above score parameter's we can select stacking model as the best model."
   ]
  },
  {
   "cell_type": "markdown",
   "id": "dfada434",
   "metadata": {},
   "source": [
    "#### ROC_AUC Score and Curve For Multiclass Label"
   ]
  },
  {
   "cell_type": "code",
   "execution_count": 55,
   "id": "816832ae",
   "metadata": {},
   "outputs": [
    {
     "data": {
      "text/plain": [
       "(900, 5)"
      ]
     },
     "execution_count": 55,
     "metadata": {},
     "output_type": "execute_result"
    }
   ],
   "source": [
    "from sklearn.preprocessing import LabelBinarizer #to binalize the mutliclass labes\n",
    "\n",
    "label_binarizer = LabelBinarizer().fit(y_train)\n",
    "y_onehot_test = label_binarizer.transform(y_test)\n",
    "y_onehot_test.shape  "
   ]
  },
  {
   "cell_type": "code",
   "execution_count": 56,
   "id": "93e4cdcb",
   "metadata": {},
   "outputs": [],
   "source": [
    "y_pred_pro_St=St_model.predict_proba(X_test) #probabiltiy prediction on Stacking model\n"
   ]
  },
  {
   "cell_type": "code",
   "execution_count": 58,
   "id": "455a8f4a",
   "metadata": {},
   "outputs": [],
   "source": [
    "from sklearn.metrics import RocCurveDisplay,roc_auc_score,roc_curve #for ROC_AUC score and curve"
   ]
  },
  {
   "cell_type": "code",
   "execution_count": 59,
   "id": "831dd803",
   "metadata": {},
   "outputs": [
    {
     "data": {
      "text/plain": [
       "0.9511709812296305"
      ]
     },
     "execution_count": 59,
     "metadata": {},
     "output_type": "execute_result"
    }
   ],
   "source": [
    "roc_auc_score(y_test,y_pred_pro_St,multi_class=\"ovr\", average=\"macro\") #Calculting ROC_AUC Score,OVR=One V/s Rest test"
   ]
  },
  {
   "cell_type": "code",
   "execution_count": 60,
   "id": "5f621976",
   "metadata": {},
   "outputs": [
    {
     "data": {
      "image/png": "[encoded data removed]",
      "text/plain": [
       "<Figure size 432x432 with 1 Axes>"
      ]
     },
     "metadata": {
      "needs_background": "light"
     },
     "output_type": "display_data"
    }
   ],
   "source": [
    "fig, ax = plt.subplots(figsize=(6, 6))\n",
    "\n",
    "class_i=['A','B','C','D','E']\n",
    "\n",
    "colors = [\"aqua\", \"darkorange\", \"cornflowerblue\",'red','yellow']\n",
    "for class_id, color in zip(range(5), colors):\n",
    "    RocCurveDisplay.from_predictions(\n",
    "        y_onehot_test[:, class_id],\n",
    "        y_pred_pro_St[:, class_id],\n",
    "        name=f\"ROC curve for {class_i[class_id]}\",\n",
    "        color=color,\n",
    "        ax=ax,\n",
    "    )\n",
    "\n",
    "plt.plot([0, 1], [0, 1], \"k--\", label=\"ROC curve for chance level (AUC = 0.5)\")\n",
    "plt.axis(\"square\")\n",
    "plt.xlabel(\"False Positive Rate\")\n",
    "plt.ylabel(\"True Positive Rate\")\n",
    "plt.title(\"Extension of Receiver Operating Characteristic\\nto One-vs-Rest multiclass\")\n",
    "plt.legend()\n",
    "plt.show()"
   ]
  },
  {
   "cell_type": "code",
   "execution_count": 61,
   "id": "eb542df5",
   "metadata": {},
   "outputs": [
    {
     "name": "stdout",
     "output_type": "stream",
     "text": [
      "              precision    recall  f1-score   support\n",
      "\n",
      "           0       0.91      0.88      0.89       123\n",
      "           1       0.72      0.82      0.77       143\n",
      "           2       0.64      0.71      0.67       194\n",
      "           3       0.93      0.80      0.86       440\n",
      "           4       0.00      0.00      0.00         0\n",
      "\n",
      "    accuracy                           0.80       900\n",
      "   macro avg       0.64      0.64      0.64       900\n",
      "weighted avg       0.83      0.80      0.81       900\n",
      "\n"
     ]
    }
   ],
   "source": [
    "print(classification_report(y_pred_St,y_test))"
   ]
  },
  {
   "cell_type": "code",
   "execution_count": null,
   "id": "23a9b36e",
   "metadata": {},
   "outputs": [],
   "source": []
  }
 ],
 "metadata": {
  "kernelspec": {
   "display_name": "Python 3 (ipykernel)",
   "language": "python",
   "name": "python3"
  },
  "language_info": {
   "codemirror_mode": {
    "name": "ipython",
    "version": 3
   },
   "file_extension": ".py",
   "mimetype": "text/x-python",
   "name": "python",
   "nbconvert_exporter": "python",
   "pygments_lexer": "ipython3",
   "version": "3.9.12"
  }
 },
 "nbformat": 4,
 "nbformat_minor": 5
}
